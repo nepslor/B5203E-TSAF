{
 "nbformat": 4,
 "nbformat_minor": 0,
 "metadata": {
  "colab": {
   "provenance": []
  },
  "kernelspec": {
   "name": "python3",
   "display_name": "Python 3 (ipykernel)",
   "language": "python"
  },
  "language_info": {
   "name": "python"
  }
 },
 "cells": [
  {
   "metadata": {},
   "cell_type": "markdown",
   "source": ""
  },
  {
   "metadata": {},
   "cell_type": "code",
   "outputs": [],
   "execution_count": null,
   "source": "[![Open In Colab](https://colab.research.google.com/assets/colab-badge.svg)](https://colab.research.google.com/github/nepslor/B5203E-TSAF/blob/main/W6/kalman_filter_exercise.ipynb)"
  },
  {
   "cell_type": "markdown",
   "source": [
    "# Kalman filter forecasting\n",
    "In this exercise we will try to forecast the position of a polecart pendolum using a simplified linear model for the system's dynamics.\n",
    "Called $x$ the position, $\\theta$ the angle of the pendulum, the full equations of motion for the cartpole are:\n",
    "$$\n",
    "\\begin{align}\n",
    "x_{t+1} &= x_{t}+\\dot{x} dt +\\frac{1}{2}\\ddot{x} t^2\\\\\n",
    "\\theta_{t+1} &= \\theta_{t}+\\dot{\\theta} dt +\\frac{1}{2}\\ddot{\\theta} t^2\\\\\n",
    "\\end{align}\n",
    "$$\n",
    "\n",
    "Unfortunately, the expressions for the cartesian and angular accelerations are non-linear function of the state:\n",
    "$$\n",
    "\\begin{aligned}\n",
    "\\ddot{x} &= \\frac{m L \\dot{\\theta}^2 \\sin(\\theta) + m g \\sin(\\theta) \\cos(\\theta) + u(t) - d \\dot{x}}{M + m \\sin^2(\\theta)}\\\\\n",
    "\\ddot{\\theta} &= \\frac{-m L \\dot{\\theta}^2 \\sin(\\theta) \\cos(\\theta) - (M + m) g \\sin(\\theta) - \\cos(\\theta) u(t) + d \\cos(\\theta) \\dot{x}}{L (M + m \\sin^2(\\theta))}\n",
    "\\end{aligned}\n",
    "$$\n",
    "where $m$ and  $g$ the mass of the pendulum and the gravitational acceleration, and **$u$** an **external force acting on the cartpole**.\n",
    "\n",
    "We can approximate the dynamics of the cartpole with a linear system:\n",
    "\n",
    "$$\n",
    "\\begin{bmatrix}\n",
    "x(k+1) \\\\\n",
    "\\dot{x}(k+1) \\\\\n",
    "\\theta(k+1) \\\\\n",
    "\\dot{\\theta}(k+1)\n",
    "\\end{bmatrix} =\n",
    "\\begin{bmatrix}\n",
    "1 & dt & 0 & 0 \\\\\n",
    "0 & 1 & 0 & 0 \\\\\n",
    "0 & 0 & 1 & dt \\\\\n",
    "0 & 0 & 0 & 1\n",
    "\\end{bmatrix}\n",
    "\\begin{bmatrix}\n",
    "x(k) \\\\\n",
    "\\dot{x}(k) \\\\\n",
    "\\theta(k) \\\\\n",
    "\\dot{\\theta}(k)\n",
    "\\end{bmatrix}\n",
    "$$\n",
    "\n",
    "\n",
    "❓ What's the interpretation of the linear system above?\n",
    "\n",
    "\n",
    "# Kalman filter for foreacasting\n",
    "In this exercise we'll try to write a Kalman filter from scratch and use it to forecast the motion of the cart pole in the next 10 steps.\n",
    "We report here the main prediction and update formula of the Kalman filter:\n",
    "\n",
    "**state prediction**\n",
    "$$\\begin{align}\n",
    "\\hat{x}_{k|k-1} &= A_k \\hat{x}_{k-1|k-1} + B_k u_{k-1}\\\\\n",
    "P_{k|k-1} &= A_k P_{k-1|k-1} A_k^T + Q_k\n",
    "\\end{align}$$\n",
    "\n",
    "\n",
    "**state update**\n",
    "$$\\begin{align}\n",
    "\\tilde{y}_k &= y_k - C_k \\hat{x}_{k|k-1}\\\\\n",
    "S_k &= C_k P_{k|k-1} C_k^T + R_k\\\\\n",
    "K_k &= P_{k|k-1} C_k^T S_k^{-1}\\\\\n",
    "\\hat{x}_{k|k} &= \\hat{x}_{k|k-1} + K_k \\tilde{y}_k\\\\\n",
    "P_{k|k} &= (I - K_k C_k) P_{k|k-1}\n",
    "\\end{align}$$\n",
    "\n",
    "### Forecasting with Kalman filter\n",
    "At each step, the Kalman filter first predicts the next state and its covariance using the system dynamics (prediction step). Then, it updates this prediction based on the new observation, adjusting both the state estimate and its covariance (update step).\n",
    "After processing the current observation, we can use the updated state estimate to forecast future states over a specified horizon by repeatedly applying the prediction step without incorporating new observations. In this way, we'll use the most recent state estimate to predict the next 10 steps of the system's evolution, propagating both the mean and the state covariance forward in time.\n"
   ],
   "metadata": {
    "id": "sWKXfxL_R3f3"
   }
  },
  {
   "cell_type": "code",
   "metadata": {
    "id": "OxrwITesClc_"
   },
   "source": [
    "import numpy as np\n",
    "import matplotlib.pyplot as plt\n",
    "import matplotlib.animation as animation\n",
    "from scipy.integrate import solve_ivp\n",
    "from scipy.interpolate import interp1d\n",
    "from functools import partial\n",
    "from IPython.display import HTML\n",
    "\n",
    "np.random.seed(197)"
   ],
   "outputs": [],
   "execution_count": null
  },
  {
   "cell_type": "markdown",
   "source": "The following block defines the nonlinear equation of the true system and simulate them over 500 steps. We use `solve_ivp` from `scipy.integrate` to solve the ODEs, as we did in the Takens' theorem exercise.",
   "metadata": {
    "id": "GnhZb5MFIdI2"
   }
  },
  {
   "cell_type": "code",
   "source": [
    "# Pendulum-cart dynamics as provided by user\n",
    "def pendcart_ode(t, state, ctrl, m=1., M=5., L=2., g=9.81, d=1.):\n",
    "    x, x_dot, theta, theta_dot = state\n",
    "    ctrl_t = ctrl(t)\n",
    "    s, c = np.sin(theta), np.cos(theta)\n",
    "\n",
    "    x_dot_dot = (m * L * theta_dot ** 2 * s + m * g * s * c + ctrl_t - d * x_dot) / (M + m * s ** 2)\n",
    "    theta_dot_dot = (-m * L * theta_dot ** 2 * s * c - (M + m) * g * s - c * ctrl_t + d * c * x_dot) / (L * (M + m * s ** 2))\n",
    "\n",
    "    return [x_dot, x_dot_dot, theta_dot, theta_dot_dot]\n",
    "\n",
    "# Simulation helper function\n",
    "def simulate_pendcart(x0, ctrl, t, **kwargs):\n",
    "    ctrl_func = interp1d(t, ctrl, kind='linear', fill_value=\"extrapolate\")\n",
    "    sol = solve_ivp(partial(pendcart_ode, ctrl=ctrl_func, **kwargs), [t[0], t[-1]], x0, t_eval=t)\n",
    "    return sol.y.T\n",
    "\n",
    "# Parameters\n",
    "m  = 1.0   # pole mass\n",
    "M  = 5.0   # cart mass\n",
    "L  = 2.0   # pole length\n",
    "g  = 9.81  # gravity\n",
    "d  = 1.0   # cart viscous damping\n",
    "\n",
    "# Define simulation parameters\n",
    "n_osc = 10\n",
    "t_end = 20\n",
    "t = np.linspace(0, t_end, 600)\n",
    "dt = t[1] - t[0]\n",
    "initial_state = [0, 0, np.pi / 8, 0]\n",
    "control_signal = 3* np.sin(n_osc * t * 2 * np.pi /t_end) +  15 * np.random.normal(0, 2, size=t.shape)\n",
    "\n",
    "# Simulate system dynamics\n",
    "states = simulate_pendcart(initial_state, control_signal, t, m=m, M=M, L=L, g=g, d=d)\n"
   ],
   "metadata": {
    "id": "PI9hopPwMahF"
   },
   "outputs": [],
   "execution_count": null
  },
  {
   "cell_type": "markdown",
   "source": [
    "The following block just define an animation"
   ],
   "metadata": {
    "id": "a8CRvQJqImfJ"
   }
  },
  {
   "cell_type": "code",
   "source": [
    "#@title Animation\n",
    "# Create animation\n",
    "fig, ax = plt.subplots(figsize=(10, 5), layout='constrained')\n",
    "ax.set_aspect('equal')\n",
    "xmin= np.min(states[:300,0])-1\n",
    "xmax= np.max(states[:300,0])+1\n",
    "ax.set_xlim(xmin, xmax)\n",
    "ax.set_ylim(-3, 1)\n",
    "ax.grid()\n",
    "\n",
    "cart_width, cart_height = 0.4, 0.2\n",
    "cart_patch = plt.Rectangle((0, 0), cart_width, cart_height, fc='black')\n",
    "line, = ax.plot([], [], 'o-', lw=2, markersize=8)\n",
    "ax.add_patch(cart_patch)\n",
    "\n",
    "def init():\n",
    "    cart_patch.set_xy((-cart_width / 2, -cart_height / 2))\n",
    "    line.set_data([], [])\n",
    "    return cart_patch, line\n",
    "\n",
    "def animate(i):\n",
    "    cart_x = states[i, 0]\n",
    "    theta = states[i, 2]\n",
    "\n",
    "    cart_patch.set_xy((cart_x - cart_width / 2, -cart_height / 2))\n",
    "    pend_x = cart_x + 2 * np.sin(theta)\n",
    "    pend_y = -2 * np.cos(theta)\n",
    "\n",
    "    line.set_data([cart_x, pend_x], [0, pend_y])\n",
    "    return cart_patch, line\n",
    "\n",
    "ani = animation.FuncAnimation(fig, animate, frames=100, interval=40, init_func=init, blit=True);\n",
    "plt.close(fig)\n",
    "\n",
    "# Display animation in Colab\n",
    "HTML(ani.to_jshtml())"
   ],
   "metadata": {
    "id": "ymSq40SmP1z3",
    "cellView": "form",
    "outputId": "08abe569-bd57-48e6-a56f-5f03bd46883b",
    "colab": {
     "base_uri": "https://localhost:8080/",
     "height": 863
    }
   },
   "outputs": [],
   "execution_count": null
  },
  {
   "cell_type": "markdown",
   "source": [
    "# ❓ KF implementation\n",
    "Try to complete the `kalman_predict` and  `kalman_update` functions using the formula above"
   ],
   "metadata": {
    "id": "0zI5n7A2LsjP"
   }
  },
  {
   "cell_type": "code",
   "source": [
    "\n",
    "def kalman_predict(x, P, A, Q, B, u):\n",
    "    x_pred = ???\n",
    "    P_pred = ???\n",
    "    return x_pred, P_pred\n",
    "\n",
    "\n",
    "def kalman_update(x_pred, P_pred, y, C, R):\n",
    "    ???\n",
    "    return x_updated, P_updated\n",
    "\n",
    "def kalman(x, P, A, Q, y, C, R):\n",
    "    x_pred, P_pred = kalman_predict(x, P, A, Q)\n",
    "    x_updated, P_updated = kalman_update(x_pred, P_pred, y, C, R)\n",
    "    return x_updated, P_updated\n",
    "\n"
   ],
   "metadata": {
    "id": "tz0l0U4CSdRx"
   },
   "outputs": [],
   "execution_count": null
  },
  {
   "cell_type": "markdown",
   "source": [
    "# ❓Define the system\n",
    "Try to define matrix $A$ and $C$ for our system."
   ],
   "metadata": {
    "id": "0DIs9fWFL_pC"
   }
  },
  {
   "cell_type": "code",
   "source": [
    "\n",
    "# Simulate system dynamics\n",
    "states = simulate_pendcart(initial_state, control_signal, t)\n",
    "\n",
    "# Kalman Filter parameters\n",
    "A = ???\n",
    "B = np.atleast_2d(0)\n",
    "C = np.eye(4)\n"
   ],
   "metadata": {
    "id": "tXoT6AwOV_Ju"
   },
   "outputs": [],
   "execution_count": null
  },
  {
   "metadata": {},
   "cell_type": "markdown",
   "source": "We initialize the state covariance to the identity matrix. As you will see, the Kalman filter will continuously update the belief on P as new observations are processed."
  },
  {
   "metadata": {},
   "cell_type": "code",
   "source": [
    "Q = 0.01 * np.eye(4)\n",
    "R = 0.05 * np.eye(4)\n",
    "P = np.eye(4)\n"
   ],
   "outputs": [],
   "execution_count": null
  },
  {
   "cell_type": "markdown",
   "source": [
    "The following code runs the `kalman_forecast` function at each step. This function calls the KF you designed and runs it for 10 steps, producing an estimatino of the evolution of the system.\n",
    "\n",
    "❓ Don't we need a forecast of the external force to predict the next states?"
   ],
   "metadata": {
    "id": "X2z5hmrMMJ1Z"
   }
  },
  {
   "cell_type": "code",
   "source": [
    "def kalman_forecast(x, P, A, B, Q, C,  steps=10):\n",
    "    forecasts = []\n",
    "    x_forecast, P_forecast = x.copy(), P.copy()\n",
    "    state_covariances = []\n",
    "    for _ in range(steps):\n",
    "        x_forecast, P_forecast = kalman_predict(x_forecast, P_forecast, A, Q, B, 0)\n",
    "        forecasts.append(C @ x_forecast)\n",
    "        state_covariances.append(P_forecast)\n",
    "    return np.array(forecasts), state_covariances\n",
    "\n",
    "# Prepare Kalman filter forecasts\n",
    "forecasts = []\n",
    "prediction_steps = 20\n",
    "x = np.copy(states[0])\n",
    "forecast_state_cov = []\n",
    "for i in range(len(t)-prediction_steps):\n",
    "    y = np.copy(states[i])\n",
    "    x_pred, P_pred = kalman_predict(x, P, A, Q, B, control_signal[i])\n",
    "    x, P = kalman_update(x_pred, P_pred, y, C, R)\n",
    "    forecast, state_covariances = kalman_forecast(x, P, A, B, Q, C, steps=prediction_steps)\n",
    "    forecasts.append(forecast)\n",
    "    forecast_state_cov.append(state_covariances)"
   ],
   "metadata": {
    "id": "A1VoMssPMJL0"
   },
   "outputs": [],
   "execution_count": null
  },
  {
   "metadata": {},
   "cell_type": "code",
   "source": [
    "import numpy as np\n",
    "from matplotlib.patches import Ellipse\n",
    "from functools import partial\n",
    "\n",
    "def ani(forecasts, forecast_state_cov, n_frames=300):\n",
    "    fig, ax = plt.subplots(figsize=(10, 5), layout='constrained')\n",
    "    ax.set_aspect('equal')\n",
    "    ax.set_xlim(xmin, xmax)\n",
    "    ax.set_ylim(-3, 1)\n",
    "    ax.grid()\n",
    "\n",
    "    cart_width, cart_height = 0.4, 0.2\n",
    "    cart_patch = plt.Rectangle((0, 0), cart_width, cart_height, fc='black')\n",
    "    line, = ax.plot([], [], 'o-', lw=2, markersize=8)\n",
    "    pred_line, = ax.plot([], [], 'r--', lw=1.5)\n",
    "    ax.add_patch(cart_patch)\n",
    "    gt_line, = ax.plot([], [], 'g-', lw=1.5)\n",
    "\n",
    "    def init():\n",
    "        cart_patch.set_xy((-cart_width / 2, -cart_height / 2))\n",
    "        line.set_data([], [])\n",
    "        pred_line.set_data([], [])\n",
    "        gt_line.set_data([], [])\n",
    "        return cart_patch, line, pred_line, gt_line\n",
    "\n",
    "\n",
    "    def get_pendulum_tip_and_cov(x, theta, P):\n",
    "        J = np.array([\n",
    "            [1, 0, 2 * np.cos(theta), 0],\n",
    "            [0, 0, 2 * np.sin(theta), 0]\n",
    "        ])\n",
    "        cov_tip = J @ P[:4, :4] @ J.T\n",
    "        pend_x = x + 2 * np.sin(theta)\n",
    "        pend_y = -2 * np.cos(theta)\n",
    "        return pend_x, pend_y, cov_tip\n",
    "\n",
    "    def animate(i, forecasts, forecast_state_cov):\n",
    "        cart_x = states[i, 0]\n",
    "        theta = states[i, 2]\n",
    "        cart_patch.set_xy((cart_x - cart_width / 2, -cart_height / 2))\n",
    "        pend_x, pend_y = cart_x + 2 * np.sin(theta), -2 * np.cos(theta)\n",
    "        line.set_data([cart_x, pend_x], [0, pend_y])\n",
    "\n",
    "        # Remove old ellipses\n",
    "        [e.remove() for e in getattr(ax, \"_ellipses\", [])]\n",
    "        ax._ellipses = []\n",
    "\n",
    "        if i < len(forecasts):\n",
    "            pred_cart_x = forecasts[i][:, 0]\n",
    "            pred_theta = forecasts[i][:, 2]\n",
    "            covs = forecast_state_cov[i]\n",
    "            ci = 1.64\n",
    "\n",
    "            for j in range(len(pred_cart_x)):\n",
    "                px, py, cov_tip = get_pendulum_tip_and_cov(pred_cart_x[j], pred_theta[j], covs[j])\n",
    "                vals, vecs = np.linalg.eigh(cov_tip)\n",
    "                order = vals.argsort()[::-1]\n",
    "                vals, vecs = vals[order], vecs[:, order]\n",
    "                width, height = 2 * ci * np.sqrt(vals)\n",
    "                angle = np.degrees(np.arctan2(*vecs[:,0][::-1]))\n",
    "                ellipse = Ellipse((px, py), width, height, angle=angle, alpha=0.2, color='orange')\n",
    "                ax.add_patch(ellipse)\n",
    "                ax._ellipses.append(ellipse)\n",
    "\n",
    "            pred_line.set_data(\n",
    "                [get_pendulum_tip_and_cov(pred_cart_x[j], pred_theta[j], covs[j])[0] for j in range(len(pred_cart_x))],\n",
    "                [get_pendulum_tip_and_cov(pred_cart_x[j], pred_theta[j], covs[j])[1] for j in range(len(pred_cart_x))]\n",
    "            )\n",
    "            # Ground truth for the same horizon\n",
    "            gt_cart_x = states[i:i+len(pred_cart_x), 0]\n",
    "            gt_theta = states[i:i+len(pred_cart_x), 2]\n",
    "            gt_pend_x = gt_cart_x + 2 * np.sin(gt_theta)\n",
    "            gt_pend_y = -2 * np.cos(gt_theta)\n",
    "            gt_line.set_data(gt_pend_x, gt_pend_y)\n",
    "        else:\n",
    "            gt_line.set_data([], [])\n",
    "\n",
    "        return cart_patch, line, pred_line\n",
    "    ani = animation.FuncAnimation(fig, partial(animate, forecasts=forecasts, forecast_state_cov=forecast_state_cov), frames=n_frames, interval=40, init_func=init, blit=True)\n",
    "    plt.close(fig)\n",
    "    return HTML(ani.to_jshtml())\n",
    "ani(forecasts, forecast_state_cov)"
   ],
   "outputs": [],
   "execution_count": null
  },
  {
   "cell_type": "markdown",
   "source": [
    "### Discrete small-angle cart–pole (high-rate) with input as **augmented state**\n",
    "\n",
    "We use a purely **discrete** model with sampling time \\(dt\\), assuming small angles and high frequency.\n",
    "State:\n",
    "$$\n",
    "x_k \\equiv \\begin{bmatrix} x_k \\\\ \\dot{x}_k \\\\ \\theta_k \\\\ \\dot{\\theta}_k \\end{bmatrix},\n",
    "\\qquad \\text{and we embed } u_k \\text{ as a state so } u_{k+1}=u_k.\n",
    "$$\n",
    "\n",
    "Forward-Euler (high-rate) update with light couplings:\n",
    "$$\n",
    "\\begin{aligned}\n",
    "x_{k+1}        &= x_k + dt\\,\\dot{x}_k,\\\\\n",
    "\\dot{x}_{k+1}  &= \\dot{x}_k\n",
    "                 + dt\\!\\left(-\\frac{d}{M}\\,\\dot{x}_k\n",
    "                               + \\frac{m g}{M}\\,\\theta_k\n",
    "                               + \\frac{1}{M}\\,u_k\\right),\\\\\n",
    "\\theta_{k+1}   &= \\theta_k + dt\\,\\dot{\\theta}_k,\\\\\n",
    "\\dot{\\theta}_{k+1}\n",
    "               &= \\dot{\\theta}_k\n",
    "                 + dt\\!\\left(\\frac{d}{L M}\\,\\dot{x}_k\n",
    "                              - \\frac{(M+m) g}{L M}\\,\\theta_k\n",
    "                              - \\frac{1}{L M}\\,u_k\\right),\\\\\n",
    "u_{k+1}        &= u_k.\n",
    "\\end{aligned}\n",
    "$$\n",
    "\n",
    "Compactly, with augmented state $z_k \\equiv \\begin{bmatrix} x_k \\\\ u_k \\end{bmatrix}$:\n",
    "$$\n",
    "\\begin{aligned}\n",
    "z_{k+1} &= A_{\\text{aug}}\\, z_k + w_k,\\\\[4pt]\n",
    "A_{\\text{aug}} &=\n",
    "\\begin{bmatrix}\n",
    "A & B\\\\\n",
    "0 & 1\n",
    "\\end{bmatrix},\n",
    "\\quad\n",
    "A =\n",
    "\\begin{bmatrix}\n",
    "1 & dt & 0 & 0\\\\\n",
    "0 & 1-\\tfrac{d}{M}dt & \\tfrac{m g}{M}dt & 0\\\\\n",
    "0 & 0 & 1 & dt\\\\\n",
    "0 & \\tfrac{d}{L M}dt & -\\tfrac{(M+m) g}{L M}dt & 1\n",
    "\\end{bmatrix},\n",
    "\\quad\n",
    "B =\n",
    "\\begin{bmatrix}\n",
    "0\\\\[4pt]\n",
    "\\tfrac{dt}{M}\\\\[4pt]\n",
    "0\\\\[4pt]\n",
    "-\\tfrac{dt}{L M}\n",
    "\\end{bmatrix}.\n",
    "\\end{aligned}\n",
    "$$\n",
    "\n",
    "**Measurements.** We observe \\(x\\) and \\(\\theta\\) **or** the full state; here we keep full state from your setup:\n",
    "$$\n",
    "y_k = C_{\\text{aug}} z_k + v_k,\\qquad\n",
    "C_{\\text{aug}} = \\begin{bmatrix} I_4 & 0 \\end{bmatrix}.\n",
    "$$\n",
    "\n",
    "This lets us use your existing `kalman_predict`, `kalman_update`, and `kalman_forecast` **unchanged** by working on the\n",
    "augmented system $(A_{\\text{aug}}, C_{\\text{aug}})$, with $Q_{\\text{aug}}$ and $R$ sized accordingly.\n"
   ],
   "metadata": {
    "id": "Q7zaUbnO7tt3"
   }
  },
  {
   "cell_type": "code",
   "source": [
    "# Small-angle discrete dynamics (forward Euler), matches your earlier symbols\n",
    "A = ???\n",
    "\n",
    "B = np.array([[0.0], [dt/M], [0.0], [-dt/(L*M)]], dtype=float)\n",
    "\n",
    "# Your original measurement setup (full state)\n",
    "C = np.eye(4)\n",
    "Q = 0.01 * np.eye(4)\n",
    "R = 0.05 * np.eye(4)\n",
    "P = np.eye(4)\n",
    "\n",
    "# Filtering + open-loop forecasting\n",
    "prediction_steps = 10\n",
    "forecasts = []\n",
    "forecast_state_cov = []\n",
    "x = states[0].copy()\n",
    "\n",
    "for i in range(len(t) - prediction_steps):\n",
    "    y = states[i]                        # measurement (from your sim)\n",
    "    u_k = np.array([control_signal[i]])  # shape (1,) for B @ u\n",
    "\n",
    "    # 1) predict WITH control\n",
    "    x_pred, P_pred = kalman_predict(x, P, A, Q, B=B, u=u_k)\n",
    "\n",
    "    # 2) update\n",
    "    x, P = kalman_update(x_pred, P_pred, y, C, R)\n",
    "\n",
    "    # 3) multi-step forecast open-loop (NO control)\n",
    "    forecast, state_covariances = kalman_forecast(x, P, A, B, Q, C, steps=prediction_steps)\n",
    "    forecast_state_cov.append(state_covariances)\n",
    "    forecasts.append(forecast)\n",
    "\n",
    "forecasts = np.array(forecasts)  # shape: (len(t)-prediction_steps, prediction_steps, 4)"
   ],
   "metadata": {
    "cellView": "form",
    "id": "dZqRRiYEA1z5",
    "outputId": "615347f9-d965-4749-f3be-7b74508e7114",
    "colab": {
     "base_uri": "https://localhost:8080/",
     "height": 780
    }
   },
   "outputs": [],
   "execution_count": null
  },
  {
   "metadata": {},
   "cell_type": "code",
   "source": "ani(forecasts, forecast_state_cov)",
   "outputs": [],
   "execution_count": null
  }
 ]
}
