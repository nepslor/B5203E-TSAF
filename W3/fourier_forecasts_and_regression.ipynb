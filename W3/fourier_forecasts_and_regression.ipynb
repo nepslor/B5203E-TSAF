{
 "nbformat": 4,
 "nbformat_minor": 0,
 "metadata": {
  "colab": {
   "provenance": [],
   "include_colab_link": true
  },
  "kernelspec": {
   "name": "python3",
   "display_name": "Python 3 (ipykernel)",
   "language": "python"
  },
  "language_info": {
   "name": "python"
  }
 },
 "cells": [
  {
   "cell_type": "markdown",
   "metadata": {
    "id": "view-in-github",
    "colab_type": "text"
   },
   "source": "[![Open In Colab](https://colab.research.google.com/assets/colab-badge.svg)](https://colab.research.google.com/github/nepslor/B5203E-TSAF/blob/main/W3/fourier_forecasts_and_regression.ipynb)"
  },
  {
   "cell_type": "markdown",
   "source": [
    "# Fourier decomposition and forecasting\n",
    "Under stationarity assumption, Fourier decomposition can be used to extrapolate a signal beyond observed values. In this lesson you'll write a simple Fourier forecaster from scratch. Let's start downloading some time series\n"
   ],
   "metadata": {
    "id": "i-TBEtoa3EGy"
   }
  },
  {
   "cell_type": "code",
   "metadata": {
    "id": "mq6X7MpY414Y",
    "colab": {
     "base_uri": "https://localhost:8080/",
     "height": 606
    },
    "outputId": "9ef34f4b-b4a9-47b5-a471-10e51bfe9954"
   },
   "source": [
    "import pandas as pd\n",
    "import numpy as np\n",
    "import matplotlib.pyplot as plt\n",
    "\n",
    "df_power = pd.read_pickle('https://github.com/nepslor/teaching/raw/refs/heads/main/TimeSeriesForecasting/data/power_dataset.pk')\n",
    "\n",
    "plt.style.use(\"seaborn-v0_8-whitegrid\")\n",
    "df_power.filter(like='meter').plot(alpha=0.4, linewidth=1, legend=False, figsize=(15, 3))\n",
    "df_power[['power', 'temperature', 'irradiance']].plot(linewidth=1, subplots=True, figsize=(15, 3))\n"
   ],
   "outputs": [],
   "execution_count": null
  },
  {
   "cell_type": "markdown",
   "source": [
    "## ❓ Generate the basis functions\n",
    "Complete the following code that creates the first $n_h$ basis functions defined as:\n",
    "$$P = \\left[sin\\left(\\frac{2\\pi tk}{l}\\right), cos\\left(\\frac{2\\pi tk}{l}\\right)\\right] \\quad k\\in \\{1,\\dots n_h\\}$$\n",
    "where $l$ is the length of $t \\in \\mathbb{N}^l$.\n",
    "\n",
    "We then see that the cross-covariance matrix of these basis functions is normal, that is, off-diagonal elements are 0.\n",
    "\n",
    "Remember that we have to normalize the signals to obtain ortho-**normal** basis. When we integrated the trigonometric functions over 2$\\pi$, we shown tha the normalization constant was $\\sqrt{\\pi}$. Since we're now integrating over $l$, the normalization constant in this case is $\\sqrt{l/2}$, that is the square root of half of the integration period:\n",
    "$$ P_n = \\sqrt{2/l} \\left[sin\\left(\\frac{2\\pi tk}{l}\\right), cos\\left(\\frac{2\\pi tk}{l}\\right)\\right] \\quad k\\in \\{1,\\dots n_h\\}$$"
   ],
   "metadata": {
    "id": "fQIX65rZ6UeO"
   }
  },
  {
   "cell_type": "code",
   "source": [
    "\n",
    "l=100               # lenght of the signal\n",
    "n_h = 3             # number of harmonics to plot\n",
    "t = np.arange(l)    # time vector\n",
    "\n",
    "def get_basis(t, l, n_h):\n",
    "  \"\"\"\n",
    "  Get the first n_h sine and cosine basis functions and the projection\n",
    "  matrix P\n",
    "  \"\"\"\n",
    "  P = None # ? COMPLETE THIS LINE\n",
    "  return P\n",
    "\n",
    "P = get_basis(t, l, n_h)\n",
    "sines, cosines = P[:, :n_h].T, P[:, n_h:].T\n",
    "\n",
    "fig, ax = plt.subplots(2, 1, figsize=(15, 3), layout=\"tight\")\n",
    "ax[0].plot(sines.T)\n",
    "ax[0].set_xticklabels([])\n",
    "ax[1].plot(cosines.T)\n",
    "ax[0].set_title('Sines and cosines basis')\n",
    "\n",
    "fig, ax = plt.subplots(figsize=(3, 3))\n",
    "m = ax.matshow(P.T@P)\n",
    "plt.colorbar(m)\n",
    "\n"
   ],
   "metadata": {
    "id": "6UKgaKPWE6UX",
    "outputId": "0286dde6-6299-445d-eaaa-b072b8d4b9eb",
    "colab": {
     "base_uri": "https://localhost:8080/",
     "height": 588
    }
   },
   "outputs": [],
   "execution_count": null
  },
  {
   "cell_type": "markdown",
   "source": [
    "The following is just an utility function to remove the mean from the power signal and return a training and a test set."
   ],
   "metadata": {
    "id": "Vr2i_mTs9d6Y"
   }
  },
  {
   "cell_type": "code",
   "source": [
    "def get_tr_te(p, training_steps, steps_ahead):\n",
    "  x_tr = p.iloc[:training_steps].values\n",
    "  tr_mean = np.mean(x_tr)\n",
    "  x_tr -= tr_mean\n",
    "  x_te = p.iloc[training_steps:training_steps+steps_ahead].values\n",
    "  x_te -= tr_mean\n",
    "  return x_tr, x_te\n",
    "\n",
    "steps_ahead = 24*14\n",
    "training_steps = 24*7\n",
    "\n",
    "x_tr, x_te = get_tr_te(df_power['power'], training_steps, steps_ahead)"
   ],
   "metadata": {
    "id": "W-_gzgop9Z7o"
   },
   "outputs": [],
   "execution_count": null
  },
  {
   "cell_type": "markdown",
   "source": [
    "# ❓ Write a Fourier forecaster\n",
    "Once you have created the basis function with the same length of the training signal, you have to project the original signal onto the basis. Since the basis matrix is orthonormal:\n",
    "$$\\beta = (P^TP)^{-1}(P^Tx) =I(P^Tx)=\n",
    " P^Tx$$\n",
    "\n",
    "In order to extrapolate you just have to create a longer basis matrix $P$ and obtain the extrapolated signal using $\\beta$.\n",
    "\n",
    "You can reuse the `get_basis` function to define a new matrix, $P_{fore}$, defined over $l + l_{fore}$ where $l_{fore}$ is the length of the step ahead to be forecasted.\n",
    "\n"
   ],
   "metadata": {
    "id": "DHbMYzQF9Ige"
   }
  },
  {
   "cell_type": "code",
   "source": [
    "l_tr=len(x_tr)\n",
    "l_te=len(x_te)\n",
    "t_tr = np.arange(l_tr)\n",
    "t_te = np.arange(l_tr, l_tr+l_te)\n",
    "n_harmonics = 20\n",
    "\n",
    "# ------------- Fourier decomposition - linear regression fit -----------------\n",
    "P = get_basis(t_tr, l_tr, n_harmonics)\n",
    "\n",
    "# since the basis is orthonormal the following is equivalent to the standard linear regression solution\n",
    "coeffs = None # ? COMPLETE THIS LINE\n",
    "\n",
    "# ------------- Extrapolation - we fix the frequencies and retrieve longer basis\n",
    "\n",
    "P_pred = None # ? COMPLETE THIS LINE\n",
    "\n",
    "\n",
    "\n",
    "plt.subplots(1, 1, figsize=(20, 4))\n",
    "plt.plot(x_tr, label='training data')\n",
    "plt.plot(np.hstack([x_tr*np.nan, x_te]), color='grey', linewidth=1, label='test data')\n",
    "plt.plot(t_te, P_pred@coeffs, label='extrapolation')\n",
    "plt.legend();"
   ],
   "metadata": {
    "id": "w9HwgkTxF2wH",
    "outputId": "d0c47e4e-1ab5-4041-c843-0510f26dbb5f",
    "colab": {
     "base_uri": "https://localhost:8080/",
     "height": 360
    }
   },
   "outputs": [],
   "execution_count": null
  },
  {
   "cell_type": "markdown",
   "source": [
    "# ❓ What's the optimal $n_h$?\n",
    "Write a function to get the MAE on the test set, then write an optimizer to obtain the optimal value of $n_h$\n"
   ],
   "metadata": {
    "id": "z13uHQy0GWpT"
   }
  },
  {
   "cell_type": "code",
   "source": [
    "from time import time\n",
    "n_harmonics = np.arange(2, 130)\n",
    "mae= np.zeros(len(n_harmonics))\n",
    "mae_fun = lambda err: np.mean(np.abs(err))\n",
    "\n",
    "t0=time()\n",
    "for i, n_h in enumerate(n_harmonics):\n",
    "  P = get_basis(t_tr, l_tr, n_h)\n",
    "  coeffs = P.T@x_tr\n",
    "  P_pred = get_basis(t_te, l_tr, n_h)\n",
    "  x_hat_1 = P_pred@coeffs\n",
    "  mae[i] = mae_fun(x_hat_1-x_te)\n",
    "print('our method explored {} solutions in {}s'.format(len(n_harmonics), time()-t0))\n",
    "\n",
    "plt.subplots(1, 1, figsize=(10, 4))\n",
    "plt.plot(n_harmonics, np.array(mae), linewidth=3)\n",
    "plt.ylabel('MAE on test set')\n",
    "plt.xlabel('$n_h$')\n",
    "plt.legend();"
   ],
   "metadata": {
    "id": "2V81G6_InjYV",
    "outputId": "27b48829-c3d1-42ab-d471-6b103d463002",
    "colab": {
     "base_uri": "https://localhost:8080/",
     "height": 455
    }
   },
   "outputs": [],
   "execution_count": null
  },
  {
   "cell_type": "markdown",
   "source": [
    "# Fourier forecaster via Nixtla\n",
    "The Nixtlaverse is composed by our open-source libraries, designed to provide a comprehensive, cutting-edge toolkit for time series forecasting in python.\n",
    "\n",
    "In the following we'll see how a similar Fourier forecaster can be written using Nixtla\n"
   ],
   "metadata": {
    "id": "M8BCBAVtrEIw"
   }
  },
  {
   "cell_type": "code",
   "source": [
    "%%capture\n",
    "!pip install mlforecast\n",
    "!pip install utilsforecast\n",
    "from utilsforecast.feature_engineering import trend, fourier, pipeline\n",
    "from sklearn.linear_model import LinearRegression\n",
    "from mlforecast import MLForecast\n",
    "from utilsforecast.feature_engineering import fourier, pipeline\n",
    "from functools import partial\n",
    "from utilsforecast.plotting import plot_series"
   ],
   "metadata": {
    "id": "M8E9lhybsbe9"
   },
   "outputs": [],
   "execution_count": null
  },
  {
   "cell_type": "markdown",
   "source": [
    "The first step is to convert our timeseries in a nixtla-compatible format: we need an `unique_id` column with a tag for the name of the timeseries, a 'ds' timestamp and the 'y' containing the actual values:\n",
    "\n",
    "| unique_id | ds         | y         |\n",
    "|-----------|------------|-----------|\n",
    "| id_00     | 2000-01-01 | 17.519167 |\n",
    "| id_00     | 2000-01-02 | 87.799695 |\n",
    "| id_00     | 2000-01-03 | 177.442975|\n",
    "| id_00     | 2000-01-04 | 232.704110|\n",
    "| id_00     | 2000-01-05 | 317.510474|"
   ],
   "metadata": {
    "id": "c6x7Nr0_rjhw"
   }
  },
  {
   "cell_type": "code",
   "source": [
    "def convert_to_nixtla_ts(series):\n",
    "  \"\"\"\n",
    "  Transform a pandas series to a nixtla-compatible df\n",
    "  \"\"\"\n",
    "  name = series.name\n",
    "  series = series.reset_index(name='y')\n",
    "  df = pd.DataFrame(series.rename(columns={'index': 'ds'}))\n",
    "  df['unique_id'] = name\n",
    "  return df\n",
    "\n",
    "print('#'*40)\n",
    "print('original series')\n",
    "print('#'*40)\n",
    "\n",
    "print(df_power['power'].head())\n",
    "\n",
    "df_nixtla = convert_to_nixtla_ts(df_power['power'])\n",
    "print('#'*40)\n",
    "print('nixtla compatible df')\n",
    "print('#'*40)\n",
    "\n",
    "print(df_nixtla.head())\n"
   ],
   "metadata": {
    "id": "TCs-FoXJvO3i",
    "outputId": "435b6329-5b38-4bac-f1fe-a8bb5413b567",
    "colab": {
     "base_uri": "https://localhost:8080/"
    }
   },
   "outputs": [],
   "execution_count": null
  },
  {
   "cell_type": "code",
   "source": [
    "# Step 1: Define Fourier features\n",
    "features = [\n",
    "    partial(fourier, season_length=24, k=2),\n",
    "    partial(fourier, season_length=24*7, k=1)\n",
    "]\n",
    "\n",
    "# Step 2: Run the pipeline to create training and future features\n",
    "# df must contain columns: ['unique_id', 'ds', 'y']\n",
    "train_df, future_df = pipeline(\n",
    "    df_nixtla.iloc[-24*30:-24],\n",
    "    features=features,\n",
    "    freq='1h',\n",
    "    h= 24\n",
    "    )\n",
    "\n",
    "train_df[[c for c in train_df.columns if 'y' not in c]].plot(x='ds', figsize=(15, 3))\n",
    "\n",
    "sf = MLForecast(\n",
    "    models=[LinearRegression()],\n",
    "    freq='1h',\n",
    "    lags=[1]\n",
    ")\n",
    "\n",
    "sf = sf.fit(train_df, static_features=[])\n",
    "\n",
    "predictions = sf.predict(h=24, X_df=future_df)\n",
    "plot_series(df_nixtla.tail(24*7), predictions)"
   ],
   "metadata": {
    "id": "nJWvL-stCX3Z",
    "outputId": "a072a911-34fd-4579-dcce-9e20559c5bd4",
    "colab": {
     "base_uri": "https://localhost:8080/",
     "height": 673
    }
   },
   "outputs": [],
   "execution_count": null
  },
  {
   "cell_type": "code",
   "source": [
    "#@title Interactive Fourier model\n",
    "\n",
    "import ipywidgets as widgets\n",
    "from IPython.display import display\n",
    "\n",
    "\n",
    "\n",
    "def fourier_interactive(df_nixtla, p_1 = 24, p_2 = 24 * 7):\n",
    "  # Create dropdown to toggle order\n",
    "  k1_slider = widgets.IntSlider(value=1, min=1, max=50, step=1, description='k1 (daily)', continuous_update=False)\n",
    "  k2_slider = widgets.IntSlider(value=1, min=1, max=50, step=1, description='k2 (weekly)', continuous_update=False)\n",
    "\n",
    "\n",
    "  def update_plot(k1, k2):\n",
    "\n",
    "        features = [\n",
    "            partial(fourier, season_length=p_2, k=k2),       # weekly\n",
    "            partial(fourier, season_length=p_1, k=k1),         # daily\n",
    "        ]\n",
    "        # Step 2: Run the pipeline to create training and future features\n",
    "        # df must contain columns: ['unique_id', 'ds', 'y']\n",
    "        train_df, future_df = pipeline(\n",
    "            df_nixtla.tail(p_1+p_2)[:-p_1],\n",
    "            features=features,\n",
    "            freq='1h',\n",
    "            h= p_1\n",
    "        )\n",
    "\n",
    "\n",
    "        sf = MLForecast(\n",
    "            models=[LinearRegression(fit_intercept=True)],\n",
    "            freq='1h',\n",
    "            lags=[1]\n",
    "        )\n",
    "\n",
    "        sf = sf.fit(train_df, static_features=[])\n",
    "\n",
    "        predictions = sf.predict(h=p_1, X_df=future_df)\n",
    "        predictions = predictions.rename(columns={'LinearRegression': 'y'})\n",
    "        fig, ax = plt.subplots(1, 1, figsize=(20, 4))\n",
    "        df_nixtla.tail(p_1 + p_2).plot(x='ds', y='y', ax=ax)\n",
    "        predictions.plot(x='ds', y='y', ax=ax)\n",
    "        # plot ground truth\n",
    "\n",
    "        plt.show()\n",
    "\n",
    "  # Link widget to function\n",
    "  ui = widgets.VBox([k1_slider, k2_slider])\n",
    "  out = widgets.interactive_output(update_plot, {'k1': k1_slider, 'k2': k2_slider})\n",
    "\n",
    "  return display(ui, out)\n",
    "\n",
    "fourier_interactive(df_nixtla)"
   ],
   "metadata": {
    "id": "dYtV9VoGEMXj"
   },
   "outputs": [],
   "execution_count": null
  }
 ]
}
